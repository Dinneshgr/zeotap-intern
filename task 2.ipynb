{
 "cells": [
  {
   "cell_type": "code",
   "execution_count": 5,
   "id": "3af90ea7-a3bf-4ead-bd9d-03b4ce28ef77",
   "metadata": {},
   "outputs": [],
   "source": [
    "import pandas as pd\n",
    "from sklearn.metrics.pairwise import cosine_similarity\n",
    "from sklearn.preprocessing import StandardScaler\n",
    "\n",
    "# Load datasets\n",
    "customers = pd.read_csv(\"Customers.csv\")\n",
    "products = pd.read_csv(\"Products.csv\")\n",
    "transactions = pd.read_csv(\"Transactions.csv\")\n",
    "\n",
    "# Merge datasets\n",
    "data = pd.merge(transactions, customers, on=\"CustomerID\")\n",
    "data = pd.merge(data, products, on=\"ProductID\")\n",
    "\n",
    "# Feature engineering\n",
    "customer_features = data.groupby(\"CustomerID\").agg(\n",
    "    total_spent=(\"TotalValue\", \"sum\"),\n",
    "    avg_transaction_value=(\"TotalValue\", \"mean\"),\n",
    "    total_transactions=(\"TransactionID\", \"count\"),\n",
    "    preferred_category=(\"Category\", lambda x: x.value_counts().idxmax()),\n",
    ").reset_index()\n",
    "\n"
   ]
  },
  {
   "cell_type": "code",
   "execution_count": 6,
   "id": "7d3b8a72-1deb-4fff-992f-5b13a05f7c10",
   "metadata": {},
   "outputs": [],
   "source": [
    "# Encoding categorical features (e.g., preferred_category)\n",
    "customer_features = pd.get_dummies(customer_features, columns=[\"preferred_category\"])\n",
    "\n",
    "# Normalize features for similarity\n",
    "scaler = StandardScaler()\n",
    "features_scaled = scaler.fit_transform(customer_features.drop(\"CustomerID\", axis=1))\n",
    "\n",
    "# Compute similarity matrix\n",
    "similarity_matrix = cosine_similarity(features_scaled)\n"
   ]
  },
  {
   "cell_type": "code",
   "execution_count": 7,
   "id": "aa68fdc0-f438-421a-b3b5-bab905d4c96d",
   "metadata": {},
   "outputs": [],
   "source": [
    "# Create lookalike recommendations for the first 20 customers\n",
    "customer_ids = customer_features[\"CustomerID\"].values[:20]\n",
    "lookalike_results = {}\n",
    "\n",
    "for idx, cust_id in enumerate(customer_ids):\n",
    "    similarities = similarity_matrix[idx]\n",
    "    similar_indices = similarities.argsort()[::-1][1:4]  # Top 3 excluding self\n",
    "    similar_customers = [\n",
    "        (customer_features.iloc[i][\"CustomerID\"], similarities[i])\n",
    "        for i in similar_indices\n",
    "    ]\n",
    "    lookalike_results[cust_id] = similar_customers"
   ]
  },
  {
   "cell_type": "code",
   "execution_count": 8,
   "id": "a49251a0-a617-4764-8572-eb8528c2c7ab",
   "metadata": {},
   "outputs": [
    {
     "name": "stdout",
     "output_type": "stream",
     "text": [
      "Lookalike model results saved to Lookalike.csv\n"
     ]
    }
   ],
   "source": [
    "# Save results to Lookalike.csv\n",
    "lookalike_df = pd.DataFrame(\n",
    "    {\n",
    "        \"cust_id\": lookalike_results.keys(),\n",
    "        \"lookalikes\": [\n",
    "            [{\"cust_id\": lc[0], \"score\": lc[1]} for lc in lookalike_results[cust_id]]\n",
    "            for cust_id in lookalike_results.keys()\n",
    "        ],\n",
    "    }\n",
    ")\n",
    "lookalike_df.to_csv(\"Lookalike.csv\", index=False)\n",
    "\n",
    "print(\"Lookalike model results saved to Lookalike.csv\")\n"
   ]
  },
  {
   "cell_type": "code",
   "execution_count": null,
   "id": "6a3b4260-acd4-4cc9-8102-54dddb23e442",
   "metadata": {},
   "outputs": [],
   "source": []
  }
 ],
 "metadata": {
  "kernelspec": {
   "display_name": "Python 3 (ipykernel)",
   "language": "python",
   "name": "python3"
  },
  "language_info": {
   "codemirror_mode": {
    "name": "ipython",
    "version": 3
   },
   "file_extension": ".py",
   "mimetype": "text/x-python",
   "name": "python",
   "nbconvert_exporter": "python",
   "pygments_lexer": "ipython3",
   "version": "3.13.1"
  }
 },
 "nbformat": 4,
 "nbformat_minor": 5
}
